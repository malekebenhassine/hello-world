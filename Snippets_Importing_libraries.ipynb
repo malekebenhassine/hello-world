{
  "cells": [
    {
      "cell_type": "markdown",
      "metadata": {
        "id": "view-in-github",
        "colab_type": "text"
      },
      "source": [
        "<a href=\"https://colab.research.google.com/github/malekebenhassine/hello-world/blob/main/Snippets_Importing_libraries.ipynb\" target=\"_parent\"><img src=\"https://colab.research.google.com/assets/colab-badge.svg\" alt=\"Open In Colab\"/></a>"
      ]
    },
    {
      "cell_type": "markdown",
      "metadata": {
        "id": "kDn_lVxg3Z2G"
      },
      "source": [
        "# Importing a library that is not in Colaboratory\n",
        "\n",
        "To import a library that's not in Colaboratory by default, you can use `!pip install` or `!apt-get install`."
      ]
    },
    {
      "cell_type": "code",
      "execution_count": null,
      "metadata": {
        "id": "GQ18Kd5F3uKe"
      },
      "outputs": [],
      "source": [
        "!pip install matplotlib-venn"
      ]
    },
    {
      "cell_type": "code",
      "execution_count": null,
      "metadata": {
        "id": "__3eqm3q3sr-"
      },
      "outputs": [],
      "source": [
        "!apt-get -qq install -y libfluidsynth1"
      ]
    },
    {
      "cell_type": "markdown",
      "metadata": {
        "id": "apoRbfWsRZ7S"
      },
      "source": [
        "# Install 7zip reader [libarchive](https://pypi.python.org/pypi/libarchive)"
      ]
    },
    {
      "cell_type": "code",
      "execution_count": null,
      "metadata": {
        "id": "d_j7nNbKRmhx"
      },
      "outputs": [],
      "source": [
        "# https://pypi.python.org/pypi/libarchive\n",
        "!apt-get -qq install -y libarchive-dev && pip install -U libarchive\n",
        "import libarchive"
      ]
    },
    {
      "cell_type": "markdown",
      "metadata": {
        "id": "PeaSX9KXR58J"
      },
      "source": [
        "# Install GraphViz & [PyDot](https://pypi.python.org/pypi/pydot)"
      ]
    },
    {
      "cell_type": "code",
      "execution_count": null,
      "metadata": {
        "id": "w9llCG2wSRDx"
      },
      "outputs": [],
      "source": [
        "# https://pypi.python.org/pypi/pydot\n",
        "!apt-get -qq install -y graphviz && pip install pydot\n",
        "import pydot"
      ]
    },
    {
      "cell_type": "markdown",
      "metadata": {
        "id": "Tlh1MKxGrKFO"
      },
      "source": [
        "# Install [cartopy](http://scitools.org.uk/cartopy/docs/latest/)"
      ]
    },
    {
      "cell_type": "code",
      "execution_count": null,
      "metadata": {
        "id": "Zq68DSY2rP2W"
      },
      "outputs": [],
      "source": [
        "!pip install cartopy\n",
        "import cartopy"
      ]
    },
    {
      "cell_type": "code",
      "source": [
        "import pandas as pd\n",
        "\n",
        "# Essaye d'abord ISO-8859-1 (latin1)\n",
        "historique = pd.read_csv('/content/datasetcomplet7.csv', encoding='ISO-8859-1', sep=';')\n",
        "\n",
        "# Ou si ça ne marche pas, essaye cp1252\n",
        "#historique = pd.read_csv('/content/datasetcomplet7.csv', encoding='cp1252')\n",
        "\n",
        "# Vérifie les premières lignes\n",
        "historique.head()\n"
      ],
      "metadata": {
        "id": "ymywXBAT0XBu",
        "outputId": "4076dc7f-5cb3-41ae-aa03-71fbf28f403c",
        "colab": {
          "base_uri": "https://localhost:8080/",
          "height": 313
        }
      },
      "execution_count": 10,
      "outputs": [
        {
          "output_type": "execute_result",
          "data": {
            "text/plain": [
              "   InvoiceNo SellToCustomerNo      ProductNo  ClientID      ProduitID  \\\n",
              "0  FA20/0312         CL000044  SEHDDLEN20101  CL000044  SEHDDLEN20101   \n",
              "1  FA20/0312         CL000044  SEKITCIS19A01  CL000044  SEKITCIS19A01   \n",
              "2  FA20/0312         CL000044  SEKITCIS19A04  CL000044  SEKITCIS19A04   \n",
              "3  FA20/0312         CL000044  SEKITCIS19A05  CL000044  SEKITCIS19A05   \n",
              "4  FA20/0312         CL000044  SEKITCIS19A06  CL000044  SEKITCIS19A06   \n",
              "\n",
              "     DateID  StatutID  Montant_initial_TND Quantity  Forfait  Statut_Creance  \\\n",
              "0  20200731       112  Montant_initial_TND        2        0  Montant Ouvert   \n",
              "1  20200731       113  Montant_initial_TND        2        0  Montant Ouvert   \n",
              "2  20200731       114  Montant_initial_TND        4        0  Montant Ouvert   \n",
              "3  20200731       115  Montant_initial_TND        8        0  Montant Ouvert   \n",
              "4  20200731       116  Montant_initial_TND        8        0  Montant Ouvert   \n",
              "\n",
              "  Type_Creance  Statut_Documentaire NatureCreance   Source Payment_Method  \\\n",
              "0     Standard  Factureréceptionnée        Normal  FACTURE            VIR   \n",
              "1     Standard  Factureréceptionnée        Normal  FACTURE            VIR   \n",
              "2     Standard  Factureréceptionnée        Normal  FACTURE            VIR   \n",
              "3     Standard  Factureréceptionnée        Normal  FACTURE            VIR   \n",
              "4     Standard  Factureréceptionnée        Normal  FACTURE            VIR   \n",
              "\n",
              "  PostingDate_Text DueDate_Text     Alerte_Retard  \n",
              "0       31/07/2020   29/09/2020  À temps ou léger  \n",
              "1       31/07/2020   29/09/2020  À temps ou léger  \n",
              "2       31/07/2020   29/09/2020  À temps ou léger  \n",
              "3       31/07/2020   29/09/2020  À temps ou léger  \n",
              "4       31/07/2020   29/09/2020  À temps ou léger  "
            ],
            "text/html": [
              "\n",
              "  <div id=\"df-3a56de11-fa8b-4200-944a-24c79c042579\" class=\"colab-df-container\">\n",
              "    <div>\n",
              "<style scoped>\n",
              "    .dataframe tbody tr th:only-of-type {\n",
              "        vertical-align: middle;\n",
              "    }\n",
              "\n",
              "    .dataframe tbody tr th {\n",
              "        vertical-align: top;\n",
              "    }\n",
              "\n",
              "    .dataframe thead th {\n",
              "        text-align: right;\n",
              "    }\n",
              "</style>\n",
              "<table border=\"1\" class=\"dataframe\">\n",
              "  <thead>\n",
              "    <tr style=\"text-align: right;\">\n",
              "      <th></th>\n",
              "      <th>InvoiceNo</th>\n",
              "      <th>SellToCustomerNo</th>\n",
              "      <th>ProductNo</th>\n",
              "      <th>ClientID</th>\n",
              "      <th>ProduitID</th>\n",
              "      <th>DateID</th>\n",
              "      <th>StatutID</th>\n",
              "      <th>Montant_initial_TND</th>\n",
              "      <th>Quantity</th>\n",
              "      <th>Forfait</th>\n",
              "      <th>Statut_Creance</th>\n",
              "      <th>Type_Creance</th>\n",
              "      <th>Statut_Documentaire</th>\n",
              "      <th>NatureCreance</th>\n",
              "      <th>Source</th>\n",
              "      <th>Payment_Method</th>\n",
              "      <th>PostingDate_Text</th>\n",
              "      <th>DueDate_Text</th>\n",
              "      <th>Alerte_Retard</th>\n",
              "    </tr>\n",
              "  </thead>\n",
              "  <tbody>\n",
              "    <tr>\n",
              "      <th>0</th>\n",
              "      <td>FA20/0312</td>\n",
              "      <td>CL000044</td>\n",
              "      <td>SEHDDLEN20101</td>\n",
              "      <td>CL000044</td>\n",
              "      <td>SEHDDLEN20101</td>\n",
              "      <td>20200731</td>\n",
              "      <td>112</td>\n",
              "      <td>Montant_initial_TND</td>\n",
              "      <td>2</td>\n",
              "      <td>0</td>\n",
              "      <td>Montant Ouvert</td>\n",
              "      <td>Standard</td>\n",
              "      <td>Factureréceptionnée</td>\n",
              "      <td>Normal</td>\n",
              "      <td>FACTURE</td>\n",
              "      <td>VIR</td>\n",
              "      <td>31/07/2020</td>\n",
              "      <td>29/09/2020</td>\n",
              "      <td>À temps ou léger</td>\n",
              "    </tr>\n",
              "    <tr>\n",
              "      <th>1</th>\n",
              "      <td>FA20/0312</td>\n",
              "      <td>CL000044</td>\n",
              "      <td>SEKITCIS19A01</td>\n",
              "      <td>CL000044</td>\n",
              "      <td>SEKITCIS19A01</td>\n",
              "      <td>20200731</td>\n",
              "      <td>113</td>\n",
              "      <td>Montant_initial_TND</td>\n",
              "      <td>2</td>\n",
              "      <td>0</td>\n",
              "      <td>Montant Ouvert</td>\n",
              "      <td>Standard</td>\n",
              "      <td>Factureréceptionnée</td>\n",
              "      <td>Normal</td>\n",
              "      <td>FACTURE</td>\n",
              "      <td>VIR</td>\n",
              "      <td>31/07/2020</td>\n",
              "      <td>29/09/2020</td>\n",
              "      <td>À temps ou léger</td>\n",
              "    </tr>\n",
              "    <tr>\n",
              "      <th>2</th>\n",
              "      <td>FA20/0312</td>\n",
              "      <td>CL000044</td>\n",
              "      <td>SEKITCIS19A04</td>\n",
              "      <td>CL000044</td>\n",
              "      <td>SEKITCIS19A04</td>\n",
              "      <td>20200731</td>\n",
              "      <td>114</td>\n",
              "      <td>Montant_initial_TND</td>\n",
              "      <td>4</td>\n",
              "      <td>0</td>\n",
              "      <td>Montant Ouvert</td>\n",
              "      <td>Standard</td>\n",
              "      <td>Factureréceptionnée</td>\n",
              "      <td>Normal</td>\n",
              "      <td>FACTURE</td>\n",
              "      <td>VIR</td>\n",
              "      <td>31/07/2020</td>\n",
              "      <td>29/09/2020</td>\n",
              "      <td>À temps ou léger</td>\n",
              "    </tr>\n",
              "    <tr>\n",
              "      <th>3</th>\n",
              "      <td>FA20/0312</td>\n",
              "      <td>CL000044</td>\n",
              "      <td>SEKITCIS19A05</td>\n",
              "      <td>CL000044</td>\n",
              "      <td>SEKITCIS19A05</td>\n",
              "      <td>20200731</td>\n",
              "      <td>115</td>\n",
              "      <td>Montant_initial_TND</td>\n",
              "      <td>8</td>\n",
              "      <td>0</td>\n",
              "      <td>Montant Ouvert</td>\n",
              "      <td>Standard</td>\n",
              "      <td>Factureréceptionnée</td>\n",
              "      <td>Normal</td>\n",
              "      <td>FACTURE</td>\n",
              "      <td>VIR</td>\n",
              "      <td>31/07/2020</td>\n",
              "      <td>29/09/2020</td>\n",
              "      <td>À temps ou léger</td>\n",
              "    </tr>\n",
              "    <tr>\n",
              "      <th>4</th>\n",
              "      <td>FA20/0312</td>\n",
              "      <td>CL000044</td>\n",
              "      <td>SEKITCIS19A06</td>\n",
              "      <td>CL000044</td>\n",
              "      <td>SEKITCIS19A06</td>\n",
              "      <td>20200731</td>\n",
              "      <td>116</td>\n",
              "      <td>Montant_initial_TND</td>\n",
              "      <td>8</td>\n",
              "      <td>0</td>\n",
              "      <td>Montant Ouvert</td>\n",
              "      <td>Standard</td>\n",
              "      <td>Factureréceptionnée</td>\n",
              "      <td>Normal</td>\n",
              "      <td>FACTURE</td>\n",
              "      <td>VIR</td>\n",
              "      <td>31/07/2020</td>\n",
              "      <td>29/09/2020</td>\n",
              "      <td>À temps ou léger</td>\n",
              "    </tr>\n",
              "  </tbody>\n",
              "</table>\n",
              "</div>\n",
              "    <div class=\"colab-df-buttons\">\n",
              "\n",
              "  <div class=\"colab-df-container\">\n",
              "    <button class=\"colab-df-convert\" onclick=\"convertToInteractive('df-3a56de11-fa8b-4200-944a-24c79c042579')\"\n",
              "            title=\"Convert this dataframe to an interactive table.\"\n",
              "            style=\"display:none;\">\n",
              "\n",
              "  <svg xmlns=\"http://www.w3.org/2000/svg\" height=\"24px\" viewBox=\"0 -960 960 960\">\n",
              "    <path d=\"M120-120v-720h720v720H120Zm60-500h600v-160H180v160Zm220 220h160v-160H400v160Zm0 220h160v-160H400v160ZM180-400h160v-160H180v160Zm440 0h160v-160H620v160ZM180-180h160v-160H180v160Zm440 0h160v-160H620v160Z\"/>\n",
              "  </svg>\n",
              "    </button>\n",
              "\n",
              "  <style>\n",
              "    .colab-df-container {\n",
              "      display:flex;\n",
              "      gap: 12px;\n",
              "    }\n",
              "\n",
              "    .colab-df-convert {\n",
              "      background-color: #E8F0FE;\n",
              "      border: none;\n",
              "      border-radius: 50%;\n",
              "      cursor: pointer;\n",
              "      display: none;\n",
              "      fill: #1967D2;\n",
              "      height: 32px;\n",
              "      padding: 0 0 0 0;\n",
              "      width: 32px;\n",
              "    }\n",
              "\n",
              "    .colab-df-convert:hover {\n",
              "      background-color: #E2EBFA;\n",
              "      box-shadow: 0px 1px 2px rgba(60, 64, 67, 0.3), 0px 1px 3px 1px rgba(60, 64, 67, 0.15);\n",
              "      fill: #174EA6;\n",
              "    }\n",
              "\n",
              "    .colab-df-buttons div {\n",
              "      margin-bottom: 4px;\n",
              "    }\n",
              "\n",
              "    [theme=dark] .colab-df-convert {\n",
              "      background-color: #3B4455;\n",
              "      fill: #D2E3FC;\n",
              "    }\n",
              "\n",
              "    [theme=dark] .colab-df-convert:hover {\n",
              "      background-color: #434B5C;\n",
              "      box-shadow: 0px 1px 3px 1px rgba(0, 0, 0, 0.15);\n",
              "      filter: drop-shadow(0px 1px 2px rgba(0, 0, 0, 0.3));\n",
              "      fill: #FFFFFF;\n",
              "    }\n",
              "  </style>\n",
              "\n",
              "    <script>\n",
              "      const buttonEl =\n",
              "        document.querySelector('#df-3a56de11-fa8b-4200-944a-24c79c042579 button.colab-df-convert');\n",
              "      buttonEl.style.display =\n",
              "        google.colab.kernel.accessAllowed ? 'block' : 'none';\n",
              "\n",
              "      async function convertToInteractive(key) {\n",
              "        const element = document.querySelector('#df-3a56de11-fa8b-4200-944a-24c79c042579');\n",
              "        const dataTable =\n",
              "          await google.colab.kernel.invokeFunction('convertToInteractive',\n",
              "                                                    [key], {});\n",
              "        if (!dataTable) return;\n",
              "\n",
              "        const docLinkHtml = 'Like what you see? Visit the ' +\n",
              "          '<a target=\"_blank\" href=https://colab.research.google.com/notebooks/data_table.ipynb>data table notebook</a>'\n",
              "          + ' to learn more about interactive tables.';\n",
              "        element.innerHTML = '';\n",
              "        dataTable['output_type'] = 'display_data';\n",
              "        await google.colab.output.renderOutput(dataTable, element);\n",
              "        const docLink = document.createElement('div');\n",
              "        docLink.innerHTML = docLinkHtml;\n",
              "        element.appendChild(docLink);\n",
              "      }\n",
              "    </script>\n",
              "  </div>\n",
              "\n",
              "\n",
              "    <div id=\"df-b781f3ee-a0e9-4786-9278-d247e6232465\">\n",
              "      <button class=\"colab-df-quickchart\" onclick=\"quickchart('df-b781f3ee-a0e9-4786-9278-d247e6232465')\"\n",
              "                title=\"Suggest charts\"\n",
              "                style=\"display:none;\">\n",
              "\n",
              "<svg xmlns=\"http://www.w3.org/2000/svg\" height=\"24px\"viewBox=\"0 0 24 24\"\n",
              "     width=\"24px\">\n",
              "    <g>\n",
              "        <path d=\"M19 3H5c-1.1 0-2 .9-2 2v14c0 1.1.9 2 2 2h14c1.1 0 2-.9 2-2V5c0-1.1-.9-2-2-2zM9 17H7v-7h2v7zm4 0h-2V7h2v10zm4 0h-2v-4h2v4z\"/>\n",
              "    </g>\n",
              "</svg>\n",
              "      </button>\n",
              "\n",
              "<style>\n",
              "  .colab-df-quickchart {\n",
              "      --bg-color: #E8F0FE;\n",
              "      --fill-color: #1967D2;\n",
              "      --hover-bg-color: #E2EBFA;\n",
              "      --hover-fill-color: #174EA6;\n",
              "      --disabled-fill-color: #AAA;\n",
              "      --disabled-bg-color: #DDD;\n",
              "  }\n",
              "\n",
              "  [theme=dark] .colab-df-quickchart {\n",
              "      --bg-color: #3B4455;\n",
              "      --fill-color: #D2E3FC;\n",
              "      --hover-bg-color: #434B5C;\n",
              "      --hover-fill-color: #FFFFFF;\n",
              "      --disabled-bg-color: #3B4455;\n",
              "      --disabled-fill-color: #666;\n",
              "  }\n",
              "\n",
              "  .colab-df-quickchart {\n",
              "    background-color: var(--bg-color);\n",
              "    border: none;\n",
              "    border-radius: 50%;\n",
              "    cursor: pointer;\n",
              "    display: none;\n",
              "    fill: var(--fill-color);\n",
              "    height: 32px;\n",
              "    padding: 0;\n",
              "    width: 32px;\n",
              "  }\n",
              "\n",
              "  .colab-df-quickchart:hover {\n",
              "    background-color: var(--hover-bg-color);\n",
              "    box-shadow: 0 1px 2px rgba(60, 64, 67, 0.3), 0 1px 3px 1px rgba(60, 64, 67, 0.15);\n",
              "    fill: var(--button-hover-fill-color);\n",
              "  }\n",
              "\n",
              "  .colab-df-quickchart-complete:disabled,\n",
              "  .colab-df-quickchart-complete:disabled:hover {\n",
              "    background-color: var(--disabled-bg-color);\n",
              "    fill: var(--disabled-fill-color);\n",
              "    box-shadow: none;\n",
              "  }\n",
              "\n",
              "  .colab-df-spinner {\n",
              "    border: 2px solid var(--fill-color);\n",
              "    border-color: transparent;\n",
              "    border-bottom-color: var(--fill-color);\n",
              "    animation:\n",
              "      spin 1s steps(1) infinite;\n",
              "  }\n",
              "\n",
              "  @keyframes spin {\n",
              "    0% {\n",
              "      border-color: transparent;\n",
              "      border-bottom-color: var(--fill-color);\n",
              "      border-left-color: var(--fill-color);\n",
              "    }\n",
              "    20% {\n",
              "      border-color: transparent;\n",
              "      border-left-color: var(--fill-color);\n",
              "      border-top-color: var(--fill-color);\n",
              "    }\n",
              "    30% {\n",
              "      border-color: transparent;\n",
              "      border-left-color: var(--fill-color);\n",
              "      border-top-color: var(--fill-color);\n",
              "      border-right-color: var(--fill-color);\n",
              "    }\n",
              "    40% {\n",
              "      border-color: transparent;\n",
              "      border-right-color: var(--fill-color);\n",
              "      border-top-color: var(--fill-color);\n",
              "    }\n",
              "    60% {\n",
              "      border-color: transparent;\n",
              "      border-right-color: var(--fill-color);\n",
              "    }\n",
              "    80% {\n",
              "      border-color: transparent;\n",
              "      border-right-color: var(--fill-color);\n",
              "      border-bottom-color: var(--fill-color);\n",
              "    }\n",
              "    90% {\n",
              "      border-color: transparent;\n",
              "      border-bottom-color: var(--fill-color);\n",
              "    }\n",
              "  }\n",
              "</style>\n",
              "\n",
              "      <script>\n",
              "        async function quickchart(key) {\n",
              "          const quickchartButtonEl =\n",
              "            document.querySelector('#' + key + ' button');\n",
              "          quickchartButtonEl.disabled = true;  // To prevent multiple clicks.\n",
              "          quickchartButtonEl.classList.add('colab-df-spinner');\n",
              "          try {\n",
              "            const charts = await google.colab.kernel.invokeFunction(\n",
              "                'suggestCharts', [key], {});\n",
              "          } catch (error) {\n",
              "            console.error('Error during call to suggestCharts:', error);\n",
              "          }\n",
              "          quickchartButtonEl.classList.remove('colab-df-spinner');\n",
              "          quickchartButtonEl.classList.add('colab-df-quickchart-complete');\n",
              "        }\n",
              "        (() => {\n",
              "          let quickchartButtonEl =\n",
              "            document.querySelector('#df-b781f3ee-a0e9-4786-9278-d247e6232465 button');\n",
              "          quickchartButtonEl.style.display =\n",
              "            google.colab.kernel.accessAllowed ? 'block' : 'none';\n",
              "        })();\n",
              "      </script>\n",
              "    </div>\n",
              "\n",
              "    </div>\n",
              "  </div>\n"
            ],
            "application/vnd.google.colaboratory.intrinsic+json": {
              "type": "dataframe",
              "variable_name": "historique",
              "summary": "{\n  \"name\": \"historique\",\n  \"rows\": 5803,\n  \"fields\": [\n    {\n      \"column\": \"InvoiceNo\",\n      \"properties\": {\n        \"dtype\": \"category\",\n        \"num_unique_values\": 2134,\n        \"samples\": [\n          \"FA22/0472\",\n          \"AV22/0001\",\n          \"FA24/0017\"\n        ],\n        \"semantic_type\": \"\",\n        \"description\": \"\"\n      }\n    },\n    {\n      \"column\": \"SellToCustomerNo\",\n      \"properties\": {\n        \"dtype\": \"category\",\n        \"num_unique_values\": 304,\n        \"samples\": [\n          \"CL000132\",\n          \"CL000218\",\n          \"CL000262\"\n        ],\n        \"semantic_type\": \"\",\n        \"description\": \"\"\n      }\n    },\n    {\n      \"column\": \"ProductNo\",\n      \"properties\": {\n        \"dtype\": \"category\",\n        \"num_unique_values\": 1268,\n        \"samples\": [\n          \"LGLSAMSFT9L01\",\n          \"RSLICCIS20A03\",\n          \"LGMSFOPV19A01\"\n        ],\n        \"semantic_type\": \"\",\n        \"description\": \"\"\n      }\n    },\n    {\n      \"column\": \"ClientID\",\n      \"properties\": {\n        \"dtype\": \"category\",\n        \"num_unique_values\": 304,\n        \"samples\": [\n          \"CL000132\",\n          \"CL000218\",\n          \"CL000262\"\n        ],\n        \"semantic_type\": \"\",\n        \"description\": \"\"\n      }\n    },\n    {\n      \"column\": \"ProduitID\",\n      \"properties\": {\n        \"dtype\": \"category\",\n        \"num_unique_values\": 1268,\n        \"samples\": [\n          \"LGLSAMSFT9L01\",\n          \"RSLICCIS20A03\",\n          \"LGMSFOPV19A01\"\n        ],\n        \"semantic_type\": \"\",\n        \"description\": \"\"\n      }\n    },\n    {\n      \"column\": \"DateID\",\n      \"properties\": {\n        \"dtype\": \"number\",\n        \"std\": 19441,\n        \"min\": 20120307,\n        \"max\": 20240531,\n        \"num_unique_values\": 680,\n        \"samples\": [\n          20151231,\n          20180924,\n          20231229\n        ],\n        \"semantic_type\": \"\",\n        \"description\": \"\"\n      }\n    },\n    {\n      \"column\": \"StatutID\",\n      \"properties\": {\n        \"dtype\": \"number\",\n        \"std\": 1432,\n        \"min\": 1,\n        \"max\": 4531,\n        \"num_unique_values\": 4531,\n        \"samples\": [\n          4179,\n          3509,\n          970\n        ],\n        \"semantic_type\": \"\",\n        \"description\": \"\"\n      }\n    },\n    {\n      \"column\": \"Montant_initial_TND\",\n      \"properties\": {\n        \"dtype\": \"category\",\n        \"num_unique_values\": 1990,\n        \"samples\": [\n          \"8413,866667\",\n          \"201402,243\",\n          \"139,1666667\"\n        ],\n        \"semantic_type\": \"\",\n        \"description\": \"\"\n      }\n    },\n    {\n      \"column\": \"Quantity\",\n      \"properties\": {\n        \"dtype\": \"category\",\n        \"num_unique_values\": 167,\n        \"samples\": [\n          \"140\",\n          \"37\",\n          \"250\"\n        ],\n        \"semantic_type\": \"\",\n        \"description\": \"\"\n      }\n    },\n    {\n      \"column\": \"Forfait\",\n      \"properties\": {\n        \"dtype\": \"number\",\n        \"std\": 0,\n        \"min\": 0,\n        \"max\": 1,\n        \"num_unique_values\": 2,\n        \"samples\": [\n          1,\n          0\n        ],\n        \"semantic_type\": \"\",\n        \"description\": \"\"\n      }\n    },\n    {\n      \"column\": \"Statut_Creance\",\n      \"properties\": {\n        \"dtype\": \"category\",\n        \"num_unique_values\": 3,\n        \"samples\": [\n          \"Montant Ouvert\",\n          \"R\\u00e9gl\\u00e9e\"\n        ],\n        \"semantic_type\": \"\",\n        \"description\": \"\"\n      }\n    },\n    {\n      \"column\": \"Type_Creance\",\n      \"properties\": {\n        \"dtype\": \"category\",\n        \"num_unique_values\": 3,\n        \"samples\": [\n          \"Standard\",\n          \"Litige\"\n        ],\n        \"semantic_type\": \"\",\n        \"description\": \"\"\n      }\n    },\n    {\n      \"column\": \"Statut_Documentaire\",\n      \"properties\": {\n        \"dtype\": \"category\",\n        \"num_unique_values\": 2,\n        \"samples\": [\n          \"Retardsurr\\u00e9ceptionfacture\",\n          \"Facturer\\u00e9ceptionn\\u00e9e\"\n        ],\n        \"semantic_type\": \"\",\n        \"description\": \"\"\n      }\n    },\n    {\n      \"column\": \"NatureCreance\",\n      \"properties\": {\n        \"dtype\": \"category\",\n        \"num_unique_values\": 3,\n        \"samples\": [\n          \"Normal\",\n          \"Douteuse\"\n        ],\n        \"semantic_type\": \"\",\n        \"description\": \"\"\n      }\n    },\n    {\n      \"column\": \"Source\",\n      \"properties\": {\n        \"dtype\": \"category\",\n        \"num_unique_values\": 2,\n        \"samples\": [\n          \"AVOIR\",\n          \"FACTURE\"\n        ],\n        \"semantic_type\": \"\",\n        \"description\": \"\"\n      }\n    },\n    {\n      \"column\": \"Payment_Method\",\n      \"properties\": {\n        \"dtype\": \"category\",\n        \"num_unique_values\": 3,\n        \"samples\": [\n          \"VIR\",\n          \"NON RENSEIGNE\"\n        ],\n        \"semantic_type\": \"\",\n        \"description\": \"\"\n      }\n    },\n    {\n      \"column\": \"PostingDate_Text\",\n      \"properties\": {\n        \"dtype\": \"object\",\n        \"num_unique_values\": 680,\n        \"samples\": [\n          \"31/12/2015\",\n          \"24/09/2018\"\n        ],\n        \"semantic_type\": \"\",\n        \"description\": \"\"\n      }\n    },\n    {\n      \"column\": \"DueDate_Text\",\n      \"properties\": {\n        \"dtype\": \"object\",\n        \"num_unique_values\": 716,\n        \"samples\": [\n          \"29/09/2019\",\n          \"29/03/2020\"\n        ],\n        \"semantic_type\": \"\",\n        \"description\": \"\"\n      }\n    },\n    {\n      \"column\": \"Alerte_Retard\",\n      \"properties\": {\n        \"dtype\": \"category\",\n        \"num_unique_values\": 4,\n        \"samples\": [\n          \"Retard critique\",\n          \"Retard important\"\n        ],\n        \"semantic_type\": \"\",\n        \"description\": \"\"\n      }\n    }\n  ]\n}"
            }
          },
          "metadata": {},
          "execution_count": 10
        }
      ]
    },
    {
      "cell_type": "code",
      "source": [
        "historique.info()\n"
      ],
      "metadata": {
        "id": "LHhqhyQA5GaL",
        "outputId": "f397de62-7e0e-434e-bc43-6ae2df4a0f03",
        "colab": {
          "base_uri": "https://localhost:8080/"
        }
      },
      "execution_count": 11,
      "outputs": [
        {
          "output_type": "stream",
          "name": "stdout",
          "text": [
            "<class 'pandas.core.frame.DataFrame'>\n",
            "RangeIndex: 5803 entries, 0 to 5802\n",
            "Data columns (total 19 columns):\n",
            " #   Column               Non-Null Count  Dtype \n",
            "---  ------               --------------  ----- \n",
            " 0   InvoiceNo            5803 non-null   object\n",
            " 1   SellToCustomerNo     5803 non-null   object\n",
            " 2   ProductNo            5803 non-null   object\n",
            " 3   ClientID             5803 non-null   object\n",
            " 4   ProduitID            5803 non-null   object\n",
            " 5   DateID               5803 non-null   int64 \n",
            " 6   StatutID             5803 non-null   int64 \n",
            " 7   Montant_initial_TND  5322 non-null   object\n",
            " 8   Quantity             5803 non-null   object\n",
            " 9   Forfait              5803 non-null   int64 \n",
            " 10  Statut_Creance       5803 non-null   object\n",
            " 11  Type_Creance         5803 non-null   object\n",
            " 12  Statut_Documentaire  5803 non-null   object\n",
            " 13  NatureCreance        5803 non-null   object\n",
            " 14  Source               5803 non-null   object\n",
            " 15  Payment_Method       5803 non-null   object\n",
            " 16  PostingDate_Text     5803 non-null   object\n",
            " 17  DueDate_Text         5190 non-null   object\n",
            " 18  Alerte_Retard        5803 non-null   object\n",
            "dtypes: int64(3), object(16)\n",
            "memory usage: 861.5+ KB\n"
          ]
        }
      ]
    },
    {
      "cell_type": "code",
      "source": [
        "import pandas as pd\n",
        "import numpy as np\n",
        "\n",
        "# 📥 Charger le fichier (tu l’as déjà fait, donc on continue sur 'historique')\n",
        "\n",
        "# 1️⃣ Conversion des montants et des quantités\n",
        "historique['Montant_initial_TND'] = pd.to_numeric(historique['Montant_initial_TND'], errors='coerce')\n",
        "historique['Quantity'] = pd.to_numeric(historique['Quantity'], errors='coerce')\n",
        "\n",
        "# Vérifie s’il y a des valeurs manquantes après conversion\n",
        "print(historique[['Montant_initial_TND', 'Quantity']].isnull().sum())\n",
        "\n",
        "# 2️⃣ Conversion des dates\n",
        "historique['PostingDate'] = pd.to_datetime(historique['PostingDate_Text'], errors='coerce')\n",
        "historique['DueDate'] = pd.to_datetime(historique['DueDate_Text'], errors='coerce')\n",
        "\n",
        "# Vérifie si des dates sont manquantes\n",
        "print(historique[['PostingDate', 'DueDate']].isnull().sum())\n",
        "\n",
        "# 3️⃣ Remplacement des valeurs manquantes si nécessaire\n",
        "# Par exemple : Remplacer Montant manquant par 0 (ou autre stratégie)\n",
        "historique['Montant_initial_TND'] = historique['Montant_initial_TND'].fillna(0)\n",
        "historique['Quantity'] = historique['Quantity'].fillna(0)\n",
        "\n",
        "# 4️⃣ Encodage des variables catégorielles (label encoding pour les premières étapes)\n",
        "from sklearn.preprocessing import LabelEncoder\n",
        "\n",
        "colonnes_a_encoder = ['Statut_Creance', 'Type_Creance', 'Statut_Documentaire', 'NatureCreance', 'Source', 'Payment_Method']\n",
        "\n",
        "# Création d’un dictionnaire pour conserver les encodeurs (utile si besoin plus tard)\n",
        "encodeurs = {}\n",
        "\n",
        "for col in colonnes_a_encoder:\n",
        "    le = LabelEncoder()\n",
        "    historique[col] = le.fit_transform(historique[col].astype(str))\n",
        "    encodeurs[col] = le\n",
        "\n",
        "# 5️⃣ Encodage de la cible Alerte_Retard (si binaire ou multi-classe)\n",
        "le_target = LabelEncoder()\n",
        "historique['Alerte_Retard_encoded'] = le_target.fit_transform(historique['Alerte_Retard'].astype(str))\n",
        "\n",
        "# 6️⃣ Vérification finale\n",
        "print(historique.head())\n"
      ],
      "metadata": {
        "id": "ByTiuVxz8LWw",
        "outputId": "20302153-4d7c-4ff9-baf1-4339c08fe243",
        "colab": {
          "base_uri": "https://localhost:8080/"
        }
      },
      "execution_count": 12,
      "outputs": [
        {
          "output_type": "stream",
          "name": "stdout",
          "text": [
            "Montant_initial_TND    5602\n",
            "Quantity                 87\n",
            "dtype: int64\n",
            "PostingDate      0\n",
            "DueDate        613\n",
            "dtype: int64\n"
          ]
        },
        {
          "output_type": "stream",
          "name": "stderr",
          "text": [
            "<ipython-input-12-1a6d3634b50b>:14: UserWarning: Parsing dates in %d/%m/%Y format when dayfirst=False (the default) was specified. Pass `dayfirst=True` or specify a format to silence this warning.\n",
            "  historique['PostingDate'] = pd.to_datetime(historique['PostingDate_Text'], errors='coerce')\n",
            "<ipython-input-12-1a6d3634b50b>:15: UserWarning: Parsing dates in %d/%m/%Y format when dayfirst=False (the default) was specified. Pass `dayfirst=True` or specify a format to silence this warning.\n",
            "  historique['DueDate'] = pd.to_datetime(historique['DueDate_Text'], errors='coerce')\n"
          ]
        },
        {
          "output_type": "stream",
          "name": "stdout",
          "text": [
            "   InvoiceNo SellToCustomerNo      ProductNo  ClientID      ProduitID  \\\n",
            "0  FA20/0312         CL000044  SEHDDLEN20101  CL000044  SEHDDLEN20101   \n",
            "1  FA20/0312         CL000044  SEKITCIS19A01  CL000044  SEKITCIS19A01   \n",
            "2  FA20/0312         CL000044  SEKITCIS19A04  CL000044  SEKITCIS19A04   \n",
            "3  FA20/0312         CL000044  SEKITCIS19A05  CL000044  SEKITCIS19A05   \n",
            "4  FA20/0312         CL000044  SEKITCIS19A06  CL000044  SEKITCIS19A06   \n",
            "\n",
            "     DateID  StatutID  Montant_initial_TND  Quantity  Forfait  ...  \\\n",
            "0  20200731       112                  0.0       2.0        0  ...   \n",
            "1  20200731       113                  0.0       2.0        0  ...   \n",
            "2  20200731       114                  0.0       4.0        0  ...   \n",
            "3  20200731       115                  0.0       8.0        0  ...   \n",
            "4  20200731       116                  0.0       8.0        0  ...   \n",
            "\n",
            "   Statut_Documentaire  NatureCreance  Source  Payment_Method  \\\n",
            "0                    0              1       1               2   \n",
            "1                    0              1       1               2   \n",
            "2                    0              1       1               2   \n",
            "3                    0              1       1               2   \n",
            "4                    0              1       1               2   \n",
            "\n",
            "   PostingDate_Text  DueDate_Text     Alerte_Retard PostingDate    DueDate  \\\n",
            "0        31/07/2020    29/09/2020  À temps ou léger  2020-07-31 2020-09-29   \n",
            "1        31/07/2020    29/09/2020  À temps ou léger  2020-07-31 2020-09-29   \n",
            "2        31/07/2020    29/09/2020  À temps ou léger  2020-07-31 2020-09-29   \n",
            "3        31/07/2020    29/09/2020  À temps ou léger  2020-07-31 2020-09-29   \n",
            "4        31/07/2020    29/09/2020  À temps ou léger  2020-07-31 2020-09-29   \n",
            "\n",
            "  Alerte_Retard_encoded  \n",
            "0                     3  \n",
            "1                     3  \n",
            "2                     3  \n",
            "3                     3  \n",
            "4                     3  \n",
            "\n",
            "[5 rows x 22 columns]\n"
          ]
        }
      ]
    },
    {
      "cell_type": "code",
      "source": [
        "from sklearn.model_selection import train_test_split\n",
        "\n",
        "# Définir la variable cible (target)\n",
        "y = historique['Alerte_Retard_encoded']\n",
        "\n",
        "# Définir les variables explicatives (features) en excluant la target et les colonnes inutiles\n",
        "X = historique.drop(columns=['Alerte_Retard', 'Alerte_Retard_encoded', 'PostingDate_Text', 'DueDate_Text', 'PostingDate', 'DueDate', 'InvoiceNo', 'SellToCustomerNo', 'ClientID', 'ProduitID', 'ProductNo'])\n",
        "\n",
        "# Vérifier la forme des datasets\n",
        "print('X shape:', X.shape)\n",
        "print('y shape:', y.shape)\n",
        "\n",
        "# Diviser en train/test\n",
        "X_train, X_test, y_train, y_test = train_test_split(X, y, test_size=0.2, random_state=42, stratify=y)\n",
        "\n",
        "print('X_train:', X_train.shape)\n",
        "print('X_test:', X_test.shape)\n"
      ],
      "metadata": {
        "id": "lUqah2539Azn",
        "outputId": "eb1c955f-0b2f-4cb1-fc6a-f73bd0e9c3e0",
        "colab": {
          "base_uri": "https://localhost:8080/"
        }
      },
      "execution_count": 13,
      "outputs": [
        {
          "output_type": "stream",
          "name": "stdout",
          "text": [
            "X shape: (5803, 11)\n",
            "y shape: (5803,)\n",
            "X_train: (4642, 11)\n",
            "X_test: (1161, 11)\n"
          ]
        }
      ]
    },
    {
      "cell_type": "code",
      "source": [
        "from sklearn.linear_model import LogisticRegression\n",
        "from sklearn.metrics import accuracy_score, classification_report, confusion_matrix\n",
        "\n",
        "# Initialiser le modèle\n",
        "model = LogisticRegression(max_iter=1000)\n",
        "\n",
        "# Entraîner le modèle\n",
        "model.fit(X_train, y_train)\n",
        "\n",
        "# Prédire sur le jeu de test\n",
        "y_pred = model.predict(X_test)\n",
        "\n",
        "# Évaluer la performance\n",
        "print(\"Accuracy Score:\", accuracy_score(y_test, y_pred))\n",
        "print(\"\\nClassification Report:\\n\", classification_report(y_test, y_pred))\n",
        "print(\"\\nMatrice de confusion:\\n\", confusion_matrix(y_test, y_pred))\n"
      ],
      "metadata": {
        "id": "hfPJv8M19PzE",
        "outputId": "bec765a4-db14-46ee-9b13-2e7be0baf94d",
        "colab": {
          "base_uri": "https://localhost:8080/"
        }
      },
      "execution_count": 14,
      "outputs": [
        {
          "output_type": "stream",
          "name": "stdout",
          "text": [
            "Accuracy Score: 0.7424633936261843\n",
            "\n",
            "Classification Report:\n",
            "               precision    recall  f1-score   support\n",
            "\n",
            "           0       0.00      0.00      0.00        85\n",
            "           1       0.00      0.00      0.00        49\n",
            "           2       0.00      0.00      0.00       165\n",
            "           3       0.74      1.00      0.85       862\n",
            "\n",
            "    accuracy                           0.74      1161\n",
            "   macro avg       0.19      0.25      0.21      1161\n",
            "weighted avg       0.55      0.74      0.63      1161\n",
            "\n",
            "\n",
            "Matrice de confusion:\n",
            " [[  0   0   0  85]\n",
            " [  0   0   0  49]\n",
            " [  0   0   0 165]\n",
            " [  0   0   0 862]]\n"
          ]
        },
        {
          "output_type": "stream",
          "name": "stderr",
          "text": [
            "/usr/local/lib/python3.11/dist-packages/sklearn/linear_model/_logistic.py:465: ConvergenceWarning: lbfgs failed to converge (status=1):\n",
            "STOP: TOTAL NO. OF ITERATIONS REACHED LIMIT.\n",
            "\n",
            "Increase the number of iterations (max_iter) or scale the data as shown in:\n",
            "    https://scikit-learn.org/stable/modules/preprocessing.html\n",
            "Please also refer to the documentation for alternative solver options:\n",
            "    https://scikit-learn.org/stable/modules/linear_model.html#logistic-regression\n",
            "  n_iter_i = _check_optimize_result(\n",
            "/usr/local/lib/python3.11/dist-packages/sklearn/metrics/_classification.py:1565: UndefinedMetricWarning: Precision is ill-defined and being set to 0.0 in labels with no predicted samples. Use `zero_division` parameter to control this behavior.\n",
            "  _warn_prf(average, modifier, f\"{metric.capitalize()} is\", len(result))\n",
            "/usr/local/lib/python3.11/dist-packages/sklearn/metrics/_classification.py:1565: UndefinedMetricWarning: Precision is ill-defined and being set to 0.0 in labels with no predicted samples. Use `zero_division` parameter to control this behavior.\n",
            "  _warn_prf(average, modifier, f\"{metric.capitalize()} is\", len(result))\n",
            "/usr/local/lib/python3.11/dist-packages/sklearn/metrics/_classification.py:1565: UndefinedMetricWarning: Precision is ill-defined and being set to 0.0 in labels with no predicted samples. Use `zero_division` parameter to control this behavior.\n",
            "  _warn_prf(average, modifier, f\"{metric.capitalize()} is\", len(result))\n"
          ]
        }
      ]
    },
    {
      "cell_type": "code",
      "source": [
        "model = LogisticRegression(max_iter=1000, class_weight='balanced')\n",
        "model.fit(X_train, y_train)\n",
        "\n",
        "y_pred = model.predict(X_test)\n",
        "\n",
        "from sklearn.metrics import accuracy_score, classification_report, confusion_matrix\n",
        "print(\"Accuracy Score:\", accuracy_score(y_test, y_pred))\n",
        "print(\"\\nClassification Report:\\n\", classification_report(y_test, y_pred))\n",
        "print(\"\\nMatrice de confusion:\\n\", confusion_matrix(y_test, y_pred))\n",
        "\n"
      ],
      "metadata": {
        "id": "Zf-aWmXR9rF0",
        "outputId": "1a05e0fb-7276-4c60-aa40-cf4c0c06711e",
        "colab": {
          "base_uri": "https://localhost:8080/"
        }
      },
      "execution_count": 15,
      "outputs": [
        {
          "output_type": "stream",
          "name": "stdout",
          "text": [
            "Accuracy Score: 0.1515934539190353\n",
            "\n",
            "Classification Report:\n",
            "               precision    recall  f1-score   support\n",
            "\n",
            "           0       0.08      0.52      0.13        85\n",
            "           1       0.04      0.39      0.08        49\n",
            "           2       0.00      0.00      0.00       165\n",
            "           3       0.86      0.13      0.23       862\n",
            "\n",
            "    accuracy                           0.15      1161\n",
            "   macro avg       0.24      0.26      0.11      1161\n",
            "weighted avg       0.64      0.15      0.18      1161\n",
            "\n",
            "\n",
            "Matrice de confusion:\n",
            " [[ 44  37   1   3]\n",
            " [ 26  19   0   4]\n",
            " [ 86  67   0  12]\n",
            " [426 321   2 113]]\n"
          ]
        },
        {
          "output_type": "stream",
          "name": "stderr",
          "text": [
            "/usr/local/lib/python3.11/dist-packages/sklearn/linear_model/_logistic.py:465: ConvergenceWarning: lbfgs failed to converge (status=1):\n",
            "STOP: TOTAL NO. OF ITERATIONS REACHED LIMIT.\n",
            "\n",
            "Increase the number of iterations (max_iter) or scale the data as shown in:\n",
            "    https://scikit-learn.org/stable/modules/preprocessing.html\n",
            "Please also refer to the documentation for alternative solver options:\n",
            "    https://scikit-learn.org/stable/modules/linear_model.html#logistic-regression\n",
            "  n_iter_i = _check_optimize_result(\n"
          ]
        }
      ]
    },
    {
      "cell_type": "code",
      "source": [
        "from imblearn.over_sampling import SMOTE\n",
        "from sklearn.preprocessing import StandardScaler\n",
        "\n",
        "# Initialiser le suréchantillonnage\n",
        "smote = SMOTE(random_state=42)\n",
        "\n",
        "# Normaliser les données pour améliorer la convergence (important pour Logistic Regression)\n",
        "scaler = StandardScaler()\n",
        "X_train_scaled = scaler.fit_transform(X_train)\n",
        "X_test_scaled = scaler.transform(X_test)\n",
        "\n",
        "# Appliquer SMOTE sur le train\n",
        "X_train_res, y_train_res = smote.fit_resample(X_train_scaled, y_train)\n",
        "\n",
        "# Vérifier la distribution des classes après SMOTE\n",
        "import collections\n",
        "print(\"Distribution après SMOTE :\", collections.Counter(y_train_res))\n",
        "\n",
        "# Réentraîner le modèle\n",
        "model = LogisticRegression(max_iter=1000)\n",
        "model.fit(X_train_res, y_train_res)\n",
        "\n",
        "# Prédictions\n",
        "y_pred = model.predict(X_test_scaled)\n",
        "\n",
        "# Évaluation\n",
        "print(\"Accuracy Score:\", accuracy_score(y_test, y_pred))\n",
        "print(\"\\nClassification Report:\\n\", classification_report(y_test, y_pred))\n",
        "print(\"\\nMatrice de confusion:\\n\", confusion_matrix(y_test, y_pred))\n"
      ],
      "metadata": {
        "id": "KQri7TN7-Hrl",
        "outputId": "e756d4e0-98b5-42f6-e79a-73cbc1ca4a8a",
        "colab": {
          "base_uri": "https://localhost:8080/"
        }
      },
      "execution_count": 16,
      "outputs": [
        {
          "output_type": "stream",
          "name": "stdout",
          "text": [
            "Distribution après SMOTE : Counter({3: 3447, 1: 3447, 0: 3447, 2: 3447})\n",
            "Accuracy Score: 0.29112833763996554\n",
            "\n",
            "Classification Report:\n",
            "               precision    recall  f1-score   support\n",
            "\n",
            "           0       0.13      0.49      0.21        85\n",
            "           1       0.04      0.27      0.07        49\n",
            "           2       0.18      0.29      0.22       165\n",
            "           3       0.83      0.27      0.41       862\n",
            "\n",
            "    accuracy                           0.29      1161\n",
            "   macro avg       0.30      0.33      0.23      1161\n",
            "weighted avg       0.65      0.29      0.36      1161\n",
            "\n",
            "\n",
            "Matrice de confusion:\n",
            " [[ 42  22  14   7]\n",
            " [ 12  13  12  12]\n",
            " [ 35  53  48  29]\n",
            " [223 213 191 235]]\n"
          ]
        }
      ]
    },
    {
      "cell_type": "code",
      "source": [
        "from sklearn.ensemble import RandomForestClassifier\n",
        "from sklearn.metrics import accuracy_score, classification_report, confusion_matrix\n",
        "\n",
        "# Initialiser le modèle Random Forest\n",
        "rf_model = RandomForestClassifier(random_state=42)\n",
        "\n",
        "# Entraîner le modèle sur les données rééquilibrées\n",
        "rf_model.fit(X_train_res, y_train_res)\n",
        "\n",
        "# Prédire sur le jeu de test\n",
        "y_pred_rf = rf_model.predict(X_test_scaled)\n",
        "\n",
        "# Évaluer le modèle\n",
        "print(\"Accuracy Score:\", accuracy_score(y_test, y_pred_rf))\n",
        "print(\"\\nClassification Report:\\n\", classification_report(y_test, y_pred_rf))\n",
        "print(\"\\nMatrice de confusion:\\n\", confusion_matrix(y_test, y_pred_rf))\n"
      ],
      "metadata": {
        "id": "5YE63IU6-6OL",
        "outputId": "67304438-c7fd-4f89-ffca-ed916225e052",
        "colab": {
          "base_uri": "https://localhost:8080/"
        }
      },
      "execution_count": 17,
      "outputs": [
        {
          "output_type": "stream",
          "name": "stdout",
          "text": [
            "Accuracy Score: 0.6623600344530577\n",
            "\n",
            "Classification Report:\n",
            "               precision    recall  f1-score   support\n",
            "\n",
            "           0       0.37      0.48      0.42        85\n",
            "           1       0.18      0.27      0.22        49\n",
            "           2       0.32      0.35      0.34       165\n",
            "           3       0.82      0.76      0.79       862\n",
            "\n",
            "    accuracy                           0.66      1161\n",
            "   macro avg       0.42      0.47      0.44      1161\n",
            "weighted avg       0.69      0.66      0.67      1161\n",
            "\n",
            "\n",
            "Matrice de confusion:\n",
            " [[ 41   7   9  28]\n",
            " [  4  13   7  25]\n",
            " [ 10   8  58  89]\n",
            " [ 55  43 107 657]]\n"
          ]
        }
      ]
    },
    {
      "cell_type": "code",
      "source": [
        "import pandas as pd\n",
        "\n",
        "# Générer les prédictions sur tout le dataset\n",
        "historique['Prediction_Retard'] = rf_model.predict(scaler.transform(X))\n",
        "\n",
        "# Si besoin, générer aussi les probabilités (score de risque)\n",
        "proba = rf_model.predict_proba(scaler.transform(X))\n",
        "historique['Probabilité_Retard_Critique'] = proba[:, 3]  # La 4e colonne correspond à la classe \"Retard critique\"\n",
        "\n",
        "# Exporter en CSV\n",
        "historique[['ClientID', 'InvoiceNo','Prediction_Retard', 'Probabilité_Retard_Critique']].to_csv('predictions_finales.csv', index=False)\n",
        "\n",
        "print(\"✅ Fichier 'predictions3_finales.csv' créé avec succès.\")\n"
      ],
      "metadata": {
        "id": "IeZemNFY_jMj",
        "outputId": "52f68f42-55d8-4d63-e104-d30629018723",
        "colab": {
          "base_uri": "https://localhost:8080/"
        }
      },
      "execution_count": 24,
      "outputs": [
        {
          "output_type": "stream",
          "name": "stdout",
          "text": [
            "✅ Fichier 'predictions3_finales.csv' créé avec succès.\n"
          ]
        }
      ]
    },
    {
      "cell_type": "code",
      "source": [
        "from google.colab import drive\n",
        "drive.mount('/content/drive')"
      ],
      "metadata": {
        "id": "0HBH33oOK3bu"
      },
      "execution_count": null,
      "outputs": []
    },
    {
      "cell_type": "code",
      "source": [
        "\n"
      ],
      "metadata": {
        "id": "eVqGlcQtJj2X"
      },
      "execution_count": null,
      "outputs": []
    }
  ],
  "metadata": {
    "colab": {
      "name": "Snippets: Importing libraries",
      "provenance": [],
      "include_colab_link": true
    },
    "kernelspec": {
      "display_name": "Python 3",
      "name": "python3"
    }
  },
  "nbformat": 4,
  "nbformat_minor": 0
}